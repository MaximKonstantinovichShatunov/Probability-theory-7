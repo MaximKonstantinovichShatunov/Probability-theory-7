{
 "cells": [
  {
   "cell_type": "markdown",
   "id": "c283a669",
   "metadata": {},
   "source": [
    "### Задача 1\n",
    "Выбрать тест и проверить, есть  ли различия между выборками:\n",
    "\n",
    "1 )  Даны две  независимые выборки. Не соблюдается условие нормальности\n",
    "\n",
    "x1  380,420, 290\n",
    "\n",
    "y1 140,360,200,900\n",
    "\n",
    "Сделайте вывод по результатам, полученным с помощью функции"
   ]
  },
  {
   "cell_type": "code",
   "execution_count": 2,
   "id": "6569db73",
   "metadata": {},
   "outputs": [
    {
     "data": {
      "text/plain": [
       "MannwhitneyuResult(statistic=8.0, pvalue=0.6285714285714286)"
      ]
     },
     "execution_count": 2,
     "metadata": {},
     "output_type": "execute_result"
    }
   ],
   "source": [
    "import scipy.stats as stats\n",
    "import numpy as np\n",
    "x = np.array([380, 420, 290])\n",
    "y = np.array([140, 360, 200, 900])\n",
    "stats.mannwhitneyu(x, y)"
   ]
  },
  {
   "cell_type": "markdown",
   "id": "404c360d",
   "metadata": {},
   "source": [
    "pvalue>0.05 различий нет"
   ]
  },
  {
   "cell_type": "markdown",
   "id": "6d5f57ed",
   "metadata": {},
   "source": [
    "### Задача 2\n",
    "2 ) Исследовалось влияние препарата на уровень давления пациентов. Сначала измерялось давление до приема препарата, потом через 10 минут и через 30 минут. Есть ли статистически значимые различия?\n",
    "\n",
    "1е измерение до приема препарата: 150, 160, 165, 145, 155\n",
    "\n",
    "2е измерение через 10 минут: 140, 155, 150,  130, 135\n",
    "\n",
    "3е измерение через 30 минут: 130, 130, 120, 130, 125\n"
   ]
  },
  {
   "cell_type": "code",
   "execution_count": 3,
   "id": "a6b7c6f7",
   "metadata": {},
   "outputs": [
    {
     "data": {
      "text/plain": [
       "FriedmanchisquareResult(statistic=9.578947368421062, pvalue=0.00831683351100441)"
      ]
     },
     "execution_count": 3,
     "metadata": {},
     "output_type": "execute_result"
    }
   ],
   "source": [
    "a = ([150, 160, 165, 145, 155])\n",
    "b = ([140, 155, 150, 130, 135])\n",
    "c = ([130, 130, 120, 130, 125])\n",
    "\n",
    "stats.friedmanchisquare(a, b, c)"
   ]
  },
  {
   "cell_type": "markdown",
   "id": "e19f7b92",
   "metadata": {},
   "source": [
    "pvalue < 0.05 значимые различия есть"
   ]
  },
  {
   "cell_type": "markdown",
   "id": "d5d24d40",
   "metadata": {},
   "source": [
    "## Задача 3\n",
    "Сравните 1 и 2 е измерения, предполагая, что 3го измерения через 30 минут не было."
   ]
  },
  {
   "cell_type": "code",
   "execution_count": 5,
   "id": "b2be4d7f",
   "metadata": {},
   "outputs": [
    {
     "data": {
      "text/plain": [
       "WilcoxonResult(statistic=0.0, pvalue=0.0625)"
      ]
     },
     "execution_count": 5,
     "metadata": {},
     "output_type": "execute_result"
    }
   ],
   "source": [
    "stats.wilcoxon(a, b)\n"
   ]
  },
  {
   "cell_type": "markdown",
   "id": "542d7b4d",
   "metadata": {},
   "source": [
    "pvalue > 0.05 значимых различий нет"
   ]
  },
  {
   "cell_type": "markdown",
   "id": "496b8e6f",
   "metadata": {},
   "source": [
    "## Задача 4\n",
    "Даны 3 группы  учеников плавания.\n",
    "\n",
    "В 1 группе время на дистанцию 50 м составляют:\n",
    "\n",
    "56, 60, 62, 55, 71, 67, 59, 58, 64, 67\n",
    "\n",
    "Вторая группа : 57, 58, 69, 48, 72, 70, 68, 71, 50, 53\n",
    "\n",
    "Третья группа: 57, 67, 49, 48, 47, 55, 66, 51, 54\n",
    "\n",
    "Проверить, есть ли различия между группами"
   ]
  },
  {
   "cell_type": "code",
   "execution_count": 7,
   "id": "239ace3e",
   "metadata": {},
   "outputs": [
    {
     "data": {
      "text/plain": [
       "KruskalResult(statistic=5.465564058257224, pvalue=0.0650380998590494)"
      ]
     },
     "execution_count": 7,
     "metadata": {},
     "output_type": "execute_result"
    }
   ],
   "source": [
    "a = ([56, 60, 62, 55, 71, 67, 59, 58, 64, 67])\n",
    "b = ([57, 58, 69, 48, 72, 70, 68, 71, 50, 53])\n",
    "c = ([57, 67, 49, 48, 47, 55, 66, 51, 54])\n",
    "stats.kruskal(a, b, c)"
   ]
  },
  {
   "cell_type": "markdown",
   "id": "94dc1ff2",
   "metadata": {},
   "source": [
    "pvalue > 0.05 значимых различий нет"
   ]
  },
  {
   "cell_type": "markdown",
   "id": "4e9f75f5",
   "metadata": {},
   "source": [
    "## Задача 5\n",
    "Заявляется, что партия изготавливается со средним арифметическим 2,5 см. Проверить данную гипотезу, если известно, что размеры изделий подчинены нормальному закону распределения. Объем выборки 10, уровень статистической значимости 5%\n",
    "\n",
    "2.51, 2.35, 2.74, 2.56, 2.40, 2.36, 2.65, 2.7, 2.67, 2.34"
   ]
  },
  {
   "cell_type": "code",
   "execution_count": 9,
   "id": "ddc020f5",
   "metadata": {},
   "outputs": [
    {
     "data": {
      "text/plain": [
       "0.563061366180296"
      ]
     },
     "execution_count": 9,
     "metadata": {},
     "output_type": "execute_result"
    }
   ],
   "source": [
    "x = np.array([2.51, 2.35, 2.74, 2.56, 2.40, 2.36, 2.65, 2.7, 2.67, 2.34])\n",
    "me = x.mean()\n",
    "stdx = x.std(ddof=1)\n",
    "t1 = (me - 2.5) / stdx * 10**0.5\n",
    "t1"
   ]
  },
  {
   "cell_type": "code",
   "execution_count": 10,
   "id": "818a9935",
   "metadata": {},
   "outputs": [
    {
     "data": {
      "text/plain": [
       "2.2621571627409915"
      ]
     },
     "execution_count": 10,
     "metadata": {},
     "output_type": "execute_result"
    }
   ],
   "source": [
    "stats.t.ppf(1 - 0.05 / 2, 9)"
   ]
  },
  {
   "cell_type": "markdown",
   "id": "3e21561a",
   "metadata": {},
   "source": [
    "гипотеза верна"
   ]
  },
  {
   "cell_type": "code",
   "execution_count": null,
   "id": "69315ce4",
   "metadata": {},
   "outputs": [],
   "source": []
  }
 ],
 "metadata": {
  "kernelspec": {
   "display_name": "Python 3 (ipykernel)",
   "language": "python",
   "name": "python3"
  },
  "language_info": {
   "codemirror_mode": {
    "name": "ipython",
    "version": 3
   },
   "file_extension": ".py",
   "mimetype": "text/x-python",
   "name": "python",
   "nbconvert_exporter": "python",
   "pygments_lexer": "ipython3",
   "version": "3.9.13"
  }
 },
 "nbformat": 4,
 "nbformat_minor": 5
}
